{
 "cells": [
  {
   "cell_type": "markdown",
   "id": "6ba1daf5-b9d6-49b9-b077-d6bb44518d11",
   "metadata": {},
   "source": [
    "Question 1: Normalization Problem \n",
    "\n"
   ]
  },
  {
   "cell_type": "code",
   "execution_count": 3,
   "id": "95c51e89-f3f2-4811-82ba-379a0350d79b",
   "metadata": {},
   "outputs": [],
   "source": [
    "#call out the library for numpy \n",
    "\n",
    "import numpy as np"
   ]
  },
  {
   "cell_type": "code",
   "execution_count": 4,
   "id": "ab26a0c6-05c8-4aea-9c61-23ef3921e24e",
   "metadata": {},
   "outputs": [
    {
     "data": {
      "text/plain": [
       "array([[0.36595461, 0.45129481, 0.75725546, 0.78788657, 0.85358222],\n",
       "       [0.66142304, 0.38392131, 0.77235092, 0.65578552, 0.64209955],\n",
       "       [0.30426733, 0.73604689, 0.50816674, 0.44713036, 0.76009119],\n",
       "       [0.29436202, 0.23738033, 0.33940132, 0.2575231 , 0.89011912],\n",
       "       [0.12331293, 0.456246  , 0.60321162, 0.75663634, 0.89774332]])"
      ]
     },
     "execution_count": 4,
     "metadata": {},
     "output_type": "execute_result"
    }
   ],
   "source": [
    "#create a random data with an ndarray of (5,5)\n",
    "\n",
    "X = np.random.random((5,5))\n",
    "X"
   ]
  },
  {
   "cell_type": "code",
   "execution_count": 5,
   "id": "07385217-4724-451b-b93e-1fae9f2f531f",
   "metadata": {},
   "outputs": [
    {
     "data": {
      "text/plain": [
       "0.5577277055190053"
      ]
     },
     "execution_count": 5,
     "metadata": {},
     "output_type": "execute_result"
    }
   ],
   "source": [
    "#calculate the mean of the randomize data\n",
    "m = np.mean(X)\n",
    "m"
   ]
  },
  {
   "cell_type": "code",
   "execution_count": 6,
   "id": "64a5e5ee-55f1-4ade-9470-c8f1a04bceac",
   "metadata": {},
   "outputs": [
    {
     "data": {
      "text/plain": [
       "0.22453263172899054"
      ]
     },
     "execution_count": 6,
     "metadata": {},
     "output_type": "execute_result"
    }
   ],
   "source": [
    "#calculate the standard deviation \n",
    "s= np.std(X)\n",
    "s"
   ]
  },
  {
   "cell_type": "code",
   "execution_count": 7,
   "id": "a7c4d34b-e768-45e3-92a8-26c2955ad7da",
   "metadata": {},
   "outputs": [
    {
     "data": {
      "text/plain": [
       "array([[-0.854099  , -0.4740197 ,  0.88863587,  1.02505755,  1.31764595],\n",
       "       [ 0.46182746, -0.77408078,  0.95586646,  0.43671966,  0.37576653],\n",
       "       [-1.12883535,  0.79417938, -0.22072944, -0.49256693,  0.90126538],\n",
       "       [-1.1729506 , -1.42672971, -0.97235926, -1.33701995,  1.48037018],\n",
       "       [-1.93475118, -0.45196864,  0.20257151,  0.88587853,  1.51432608]])"
      ]
     },
     "execution_count": 7,
     "metadata": {},
     "output_type": "execute_result"
    }
   ],
   "source": [
    "#get the normalized value\n",
    "Z = (X - m) / s\n",
    "Z"
   ]
  },
  {
   "cell_type": "code",
   "execution_count": 8,
   "id": "3e5c002f-a4ff-4edc-88e0-cb999a7835b0",
   "metadata": {},
   "outputs": [],
   "source": [
    "#create a save file for the ndarray\n",
    "np.save('X_normalized.npy',Z)"
   ]
  },
  {
   "cell_type": "markdown",
   "id": "1f1d3794",
   "metadata": {},
   "source": [
    "Question 2: Divisible by 3 Problem"
   ]
  },
  {
   "cell_type": "code",
   "execution_count": 9,
   "id": "c6d42599",
   "metadata": {},
   "outputs": [
    {
     "ename": "SyntaxError",
     "evalue": "invalid syntax (3856458683.py, line 1)",
     "output_type": "error",
     "traceback": [
      "\u001b[1;36m  Cell \u001b[1;32mIn[9], line 1\u001b[1;36m\u001b[0m\n\u001b[1;33m    i = 1++\u001b[0m\n\u001b[1;37m           ^\u001b[0m\n\u001b[1;31mSyntaxError\u001b[0m\u001b[1;31m:\u001b[0m invalid syntax\n"
     ]
    }
   ],
   "source": [
    "i = 1++\n",
    "A = np.full((10,10),i**2)\n",
    "A"
   ]
  },
  {
   "cell_type": "markdown",
   "id": "4826cf49",
   "metadata": {},
   "source": [
    "First Error: invalid syntax and I think that the logic in the code is wrong\n",
    "\n",
    "Proposed solution: find a way to control the elements in the matrix"
   ]
  },
  {
   "cell_type": "code",
   "execution_count": 12,
   "id": "1f922606",
   "metadata": {},
   "outputs": [
    {
     "data": {
      "text/plain": [
       "array([  1,   2,   3,   4,   5,   6,   7,   8,   9,  10,  11,  12,  13,\n",
       "        14,  15,  16,  17,  18,  19,  20,  21,  22,  23,  24,  25,  26,\n",
       "        27,  28,  29,  30,  31,  32,  33,  34,  35,  36,  37,  38,  39,\n",
       "        40,  41,  42,  43,  44,  45,  46,  47,  48,  49,  50,  51,  52,\n",
       "        53,  54,  55,  56,  57,  58,  59,  60,  61,  62,  63,  64,  65,\n",
       "        66,  67,  68,  69,  70,  71,  72,  73,  74,  75,  76,  77,  78,\n",
       "        79,  80,  81,  82,  83,  84,  85,  86,  87,  88,  89,  90,  91,\n",
       "        92,  93,  94,  95,  96,  97,  98,  99, 100])"
      ]
     },
     "execution_count": 12,
     "metadata": {},
     "output_type": "execute_result"
    }
   ],
   "source": [
    "#utilize a numpy function that will control first and last number in the matrix\n",
    "z= np.arange (1,101)\n",
    "z"
   ]
  },
  {
   "cell_type": "code",
   "execution_count": 13,
   "id": "02faa670",
   "metadata": {},
   "outputs": [
    {
     "data": {
      "text/plain": [
       "array([    1,     4,     9,    16,    25,    36,    49,    64,    81,\n",
       "         100,   121,   144,   169,   196,   225,   256,   289,   324,\n",
       "         361,   400,   441,   484,   529,   576,   625,   676,   729,\n",
       "         784,   841,   900,   961,  1024,  1089,  1156,  1225,  1296,\n",
       "        1369,  1444,  1521,  1600,  1681,  1764,  1849,  1936,  2025,\n",
       "        2116,  2209,  2304,  2401,  2500,  2601,  2704,  2809,  2916,\n",
       "        3025,  3136,  3249,  3364,  3481,  3600,  3721,  3844,  3969,\n",
       "        4096,  4225,  4356,  4489,  4624,  4761,  4900,  5041,  5184,\n",
       "        5329,  5476,  5625,  5776,  5929,  6084,  6241,  6400,  6561,\n",
       "        6724,  6889,  7056,  7225,  7396,  7569,  7744,  7921,  8100,\n",
       "        8281,  8464,  8649,  8836,  9025,  9216,  9409,  9604,  9801,\n",
       "       10000])"
      ]
     },
     "execution_count": 13,
     "metadata": {},
     "output_type": "execute_result"
    }
   ],
   "source": [
    "#square every element in the array of z\n",
    "squaredNumbers = z**2\n",
    "squaredNumbers"
   ]
  },
  {
   "cell_type": "code",
   "execution_count": 14,
   "id": "17384fda",
   "metadata": {},
   "outputs": [
    {
     "data": {
      "text/plain": [
       "array([    1,     4,     9,    16,    25,    36,    49,    64,    81,\n",
       "         100,   121,   144,   169,   196,   225,   256,   289,   324,\n",
       "         361,   400,   441,   484,   529,   576,   625,   676,   729,\n",
       "         784,   841,   900,   961,  1024,  1089,  1156,  1225,  1296,\n",
       "        1369,  1444,  1521,  1600,  1681,  1764,  1849,  1936,  2025,\n",
       "        2116,  2209,  2304,  2401,  2500,  2601,  2704,  2809,  2916,\n",
       "        3025,  3136,  3249,  3364,  3481,  3600,  3721,  3844,  3969,\n",
       "        4096,  4225,  4356,  4489,  4624,  4761,  4900,  5041,  5184,\n",
       "        5329,  5476,  5625,  5776,  5929,  6084,  6241,  6400,  6561,\n",
       "        6724,  6889,  7056,  7225,  7396,  7569,  7744,  7921,  8100,\n",
       "        8281,  8464,  8649,  8836,  9025,  9216,  9409,  9604,  9801,\n",
       "       10000])"
      ]
     },
     "execution_count": 14,
     "metadata": {},
     "output_type": "execute_result"
    }
   ],
   "source": [
    "#change the shape of the matrix\n",
    "squaredNumbers.reshape(10,10)\n",
    "squaredNumbers"
   ]
  },
  {
   "cell_type": "markdown",
   "id": "6e77b2a9",
   "metadata": {},
   "source": [
    "First Run: Success!"
   ]
  },
  {
   "cell_type": "code",
   "execution_count": 15,
   "id": "92619d12",
   "metadata": {},
   "outputs": [
    {
     "data": {
      "text/plain": [
       "array([1, 1, 0, 1, 1, 0, 1, 1, 0, 1, 1, 0, 1, 1, 0, 1, 1, 0, 1, 1, 0, 1,\n",
       "       1, 0, 1, 1, 0, 1, 1, 0, 1, 1, 0, 1, 1, 0, 1, 1, 0, 1, 1, 0, 1, 1,\n",
       "       0, 1, 1, 0, 1, 1, 0, 1, 1, 0, 1, 1, 0, 1, 1, 0, 1, 1, 0, 1, 1, 0,\n",
       "       1, 1, 0, 1, 1, 0, 1, 1, 0, 1, 1, 0, 1, 1, 0, 1, 1, 0, 1, 1, 0, 1,\n",
       "       1, 0, 1, 1, 0, 1, 1, 0, 1, 1, 0, 1], dtype=int32)"
      ]
     },
     "execution_count": 15,
     "metadata": {},
     "output_type": "execute_result"
    }
   ],
   "source": [
    "#checks if each number in the element is divisible by 3\n",
    "b=squaredNumbers%3\n",
    "b"
   ]
  },
  {
   "cell_type": "markdown",
   "id": "62287f25",
   "metadata": {},
   "source": [
    "in this array all the elements with 1 are not divisible by 3 and all elements that returned as 0 are divisible by 3"
   ]
  },
  {
   "cell_type": "code",
   "execution_count": 16,
   "id": "d64c07c0",
   "metadata": {},
   "outputs": [],
   "source": [
    "#create a save file for the ndarray\n",
    "np.save('div_by_3.npy', b)"
   ]
  }
 ],
 "metadata": {
  "kernelspec": {
   "display_name": "Python 3 (ipykernel)",
   "language": "python",
   "name": "python3"
  },
  "language_info": {
   "codemirror_mode": {
    "name": "ipython",
    "version": 3
   },
   "file_extension": ".py",
   "mimetype": "text/x-python",
   "name": "python",
   "nbconvert_exporter": "python",
   "pygments_lexer": "ipython3",
   "version": "3.12.4"
  }
 },
 "nbformat": 4,
 "nbformat_minor": 5
}
