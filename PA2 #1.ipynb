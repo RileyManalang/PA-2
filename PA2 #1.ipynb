{
 "cells": [
  {
   "cell_type": "markdown",
   "id": "6ba1daf5-b9d6-49b9-b077-d6bb44518d11",
   "metadata": {},
   "source": [
    "Normalization Problem \n",
    "\n"
   ]
  },
  {
   "cell_type": "code",
   "execution_count": 5,
   "id": "95c51e89-f3f2-4811-82ba-379a0350d79b",
   "metadata": {},
   "outputs": [],
   "source": [
    "#call out the library for numpy \n",
    "\n",
    "import numpy as np"
   ]
  },
  {
   "cell_type": "code",
   "execution_count": 17,
   "id": "ab26a0c6-05c8-4aea-9c61-23ef3921e24e",
   "metadata": {},
   "outputs": [
    {
     "data": {
      "text/plain": [
       "array([[0.34007882, 0.32696059, 0.41480319, 0.14220176, 0.66303265],\n",
       "       [0.26598987, 0.90655131, 0.81335352, 0.95902355, 0.76967488],\n",
       "       [0.66059471, 0.5257835 , 0.26711109, 0.14530053, 0.3158958 ],\n",
       "       [0.05424059, 0.85466332, 0.60770422, 0.50654475, 0.98908787],\n",
       "       [0.35132594, 0.97666461, 0.16588999, 0.6718743 , 0.42405539]])"
      ]
     },
     "execution_count": 17,
     "metadata": {},
     "output_type": "execute_result"
    }
   ],
   "source": [
    "#create a random data with an ndarray of (5,5)\n",
    "\n",
    "X = np.random.random((5,5))x\n",
    "X"
   ]
  },
  {
   "cell_type": "code",
   "execution_count": 19,
   "id": "07385217-4724-451b-b93e-1fae9f2f531f",
   "metadata": {},
   "outputs": [
    {
     "data": {
      "text/plain": [
       "0.5247362696294818"
      ]
     },
     "execution_count": 19,
     "metadata": {},
     "output_type": "execute_result"
    }
   ],
   "source": [
    "#calculate the mean of the randomize data\n",
    "m = np.mean(X)\n",
    "m"
   ]
  },
  {
   "cell_type": "code",
   "execution_count": 27,
   "id": "64a5e5ee-55f1-4ade-9470-c8f1a04bceac",
   "metadata": {},
   "outputs": [
    {
     "data": {
      "text/plain": [
       "0.2839526451305826"
      ]
     },
     "execution_count": 27,
     "metadata": {},
     "output_type": "execute_result"
    }
   ],
   "source": [
    "#calculate the standard deviation \n",
    "s= np.std(X)\n",
    "s"
   ]
  },
  {
   "cell_type": "code",
   "execution_count": 23,
   "id": "a7c4d34b-e768-45e3-92a8-26c2955ad7da",
   "metadata": {},
   "outputs": [
    {
     "data": {
      "text/plain": [
       "array([[-0.65031072, -0.69650937, -0.38715285, -1.34717714,  0.48704031],\n",
       "       [-0.9112308 ,  1.34464335,  1.0164274 ,  1.52943558,  0.86260374],\n",
       "       [ 0.47845457,  0.00368804, -0.90728221, -1.33626414, -0.73547639],\n",
       "       [-1.65695123,  1.16190872,  0.29218938, -0.06406534,  1.63531353],\n",
       "       [-0.6107016 ,  1.59156234, -1.26375396,  0.51817806, -0.35456927]])"
      ]
     },
     "execution_count": 23,
     "metadata": {},
     "output_type": "execute_result"
    }
   ],
   "source": [
    "#get the normalized value\n",
    "Z = (X - m) / s\n",
    "Z"
   ]
  },
  {
   "cell_type": "code",
   "execution_count": 25,
   "id": "3e5c002f-a4ff-4edc-88e0-cb999a7835b0",
   "metadata": {},
   "outputs": [],
   "source": [
    "#create a save file for the ndarray\n",
    "np.save('X_normalized.npy',Z)"
   ]
  }
 ],
 "metadata": {
  "kernelspec": {
   "display_name": "Python 3 (ipykernel)",
   "language": "python",
   "name": "python3"
  },
  "language_info": {
   "codemirror_mode": {
    "name": "ipython",
    "version": 3
   },
   "file_extension": ".py",
   "mimetype": "text/x-python",
   "name": "python",
   "nbconvert_exporter": "python",
   "pygments_lexer": "ipython3",
   "version": "3.12.4"
  }
 },
 "nbformat": 4,
 "nbformat_minor": 5
}
